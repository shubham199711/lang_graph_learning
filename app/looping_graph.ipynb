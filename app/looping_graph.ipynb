{
 "cells": [
  {
   "cell_type": "code",
   "execution_count": 32,
   "id": "45bfbacf",
   "metadata": {},
   "outputs": [],
   "source": [
    "from langgraph.graph import StateGraph, START, END\n",
    "from typing import TypedDict, Literal\n",
    "import random"
   ]
  },
  {
   "cell_type": "code",
   "execution_count": 33,
   "id": "38fa0f84",
   "metadata": {},
   "outputs": [],
   "source": [
    "class AgentState(TypedDict):\n",
    "    name: str\n",
    "    values: list[int]\n",
    "    counter: int"
   ]
  },
  {
   "cell_type": "code",
   "execution_count": 34,
   "id": "b7b52bd5",
   "metadata": {},
   "outputs": [],
   "source": [
    "def greeter(state: AgentState) -> AgentState:\n",
    "    \"\"\"greeting function\"\"\"\n",
    "    state[\"name\"] = f\"Hi there {state['name']}!\"\n",
    "    state['counter'] = 0\n",
    "    state[\"values\"] = []\n",
    "    return state\n",
    "\n",
    "def random_values(state: AgentState) -> AgentState:\n",
    "    \"\"\"Set random number into values\"\"\"\n",
    "    state[\"values\"].append(random.randint(1, 10))\n",
    "    state['counter'] += 1\n",
    "    return state\n",
    "\n",
    "def conditional_route(state: AgentState) -> str:\n",
    "    if state['counter'] < 5:\n",
    "        return \"random_values\"\n",
    "    else:\n",
    "        return \"end\""
   ]
  },
  {
   "cell_type": "code",
   "execution_count": 35,
   "id": "bb7c0577",
   "metadata": {},
   "outputs": [],
   "source": [
    "graph = StateGraph(AgentState)\n",
    "\n",
    "graph.add_node(\"greeter\", greeter)\n",
    "graph.add_node(\"random_values\", random_values)\n",
    "\n",
    "graph.add_edge(\"greeter\", \"random_values\")\n",
    "\n",
    "graph.add_edge(START, \"greeter\")\n",
    "\n",
    "graph.add_conditional_edges(\n",
    "    \"random_values\",\n",
    "    conditional_route,\n",
    "    {\n",
    "        \"random_values\": \"random_values\",\n",
    "        \"end\": END\n",
    "    }\n",
    ")\n",
    "\n",
    "app = graph.compile()"
   ]
  },
  {
   "cell_type": "code",
   "execution_count": 36,
   "id": "8a0cafe7",
   "metadata": {},
   "outputs": [
    {
     "data": {
      "image/png": "[encoded data removed]",
      "text/plain": [
       "<IPython.core.display.Image object>"
      ]
     },
     "metadata": {},
     "output_type": "display_data"
    }
   ],
   "source": [
    "from IPython.display import Image, display\n",
    "display(Image(app.get_graph(). draw_mermaid_png()))"
   ]
  },
  {
   "cell_type": "code",
   "execution_count": 37,
   "id": "b168288c",
   "metadata": {},
   "outputs": [
    {
     "name": "stdout",
     "output_type": "stream",
     "text": [
      "{'name': 'Hi there beast!', 'values': [6, 6, 4, 7, 1], 'counter': 5}\n"
     ]
    }
   ],
   "source": [
    "result = app.invoke({\"name\": \"beast\"})\n",
    "\n",
    "print(result)"
   ]
  }
 ],
 "metadata": {
  "kernelspec": {
   "display_name": "lang-graph-learning",
   "language": "python",
   "name": "python3"
  },
  "language_info": {
   "codemirror_mode": {
    "name": "ipython",
    "version": 3
   },
   "file_extension": ".py",
   "mimetype": "text/x-python",
   "name": "python",
   "nbconvert_exporter": "python",
   "pygments_lexer": "ipython3",
   "version": "3.13.3"
  }
 },
 "nbformat": 4,
 "nbformat_minor": 5
}
