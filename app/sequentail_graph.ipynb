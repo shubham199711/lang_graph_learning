{
 "cells": [
  {
   "cell_type": "code",
   "execution_count": 14,
   "id": "2afde8a7",
   "metadata": {},
   "outputs": [],
   "source": [
    "from langgraph.graph import StateGraph\n",
    "from typing import TypedDict"
   ]
  },
  {
   "cell_type": "code",
   "execution_count": 15,
   "id": "b42e05c4",
   "metadata": {},
   "outputs": [],
   "source": [
    "class AgentState(TypedDict):\n",
    "    name: str\n",
    "    age: str\n",
    "    final: str\n",
    "    skills: list[str]"
   ]
  },
  {
   "cell_type": "code",
   "execution_count": 21,
   "id": "7ecd6384",
   "metadata": {},
   "outputs": [],
   "source": [
    "def first_process(state: AgentState) -> AgentState:\n",
    "    \"\"\"First node that does the process\"\"\"\n",
    "\n",
    "    state['final'] = f\"Hi {state['name']}, \"\n",
    "    return state\n",
    "\n",
    "def second_process(state: AgentState) -> AgentState:\n",
    "    \"\"\"Second node that does the process\"\"\"\n",
    "\n",
    "    state['final'] = state['final'] + f\"Your age is {state['age']}. \"\n",
    "    return state\n",
    "\n",
    "\n",
    "def third_process(state: AgentState) -> AgentState:\n",
    "    \"\"\"Third node that does the process\"\"\"\n",
    "\n",
    "    state['final'] = state['final'] + f\"Your skills are {', '.join(state['skills'])}.\"\n",
    "    return state"
   ]
  },
  {
   "cell_type": "code",
   "execution_count": 22,
   "id": "67d81471",
   "metadata": {},
   "outputs": [],
   "source": [
    "graph = StateGraph(AgentState)\n",
    "\n",
    "graph.add_node(\"first_process\", first_process)\n",
    "graph.add_node(\"second_process\", second_process)\n",
    "graph.add_node(\"third_process\", third_process)\n",
    "\n",
    "\n",
    "# edge\n",
    "graph.add_edge(\"first_process\", \"second_process\")\n",
    "graph.add_edge(\"second_process\", \"third_process\")\n",
    "\n",
    "\n",
    "graph.set_entry_point(\"first_process\")\n",
    "graph.set_finish_point(\"third_process\")\n",
    "\n",
    "\n",
    "app = graph.compile()"
   ]
  },
  {
   "cell_type": "code",
   "execution_count": 23,
   "id": "29844630",
   "metadata": {},
   "outputs": [
    {
     "data": {
      "image/png": "[encoded data removed]",
      "text/plain": [
       "<IPython.core.display.Image object>"
      ]
     },
     "metadata": {},
     "output_type": "display_data"
    }
   ],
   "source": [
    "from IPython.display import Image, display\n",
    "display(Image(app.get_graph(). draw_mermaid_png()))"
   ]
  },
  {
   "cell_type": "code",
   "execution_count": 24,
   "id": "7558c85a",
   "metadata": {},
   "outputs": [],
   "source": [
    "result = app.invoke({\"name\": \"beast\", \"age\": \"27\", \"skills\": [\"python\", \"AI\"]})"
   ]
  },
  {
   "cell_type": "code",
   "execution_count": 25,
   "id": "3a309a6d",
   "metadata": {},
   "outputs": [
    {
     "data": {
      "text/plain": [
       "{'name': 'beast',\n",
       " 'age': '27',\n",
       " 'final': 'Hi beast, Your age is 27. Your skills are python, AI.',\n",
       " 'skills': ['python', 'AI']}"
      ]
     },
     "execution_count": 25,
     "metadata": {},
     "output_type": "execute_result"
    }
   ],
   "source": [
    "result"
   ]
  },
  {
   "cell_type": "code",
   "execution_count": null,
   "id": "bb9a9d77",
   "metadata": {},
   "outputs": [],
   "source": []
  }
 ],
 "metadata": {
  "kernelspec": {
   "display_name": "lang-graph-learning",
   "language": "python",
   "name": "python3"
  },
  "language_info": {
   "codemirror_mode": {
    "name": "ipython",
    "version": 3
   },
   "file_extension": ".py",
   "mimetype": "text/x-python",
   "name": "python",
   "nbconvert_exporter": "python",
   "pygments_lexer": "ipython3",
   "version": "3.13.3"
  }
 },
 "nbformat": 4,
 "nbformat_minor": 5
}
