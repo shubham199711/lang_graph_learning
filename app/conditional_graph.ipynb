{
 "cells": [
  {
   "cell_type": "code",
   "execution_count": 44,
   "id": "72b41038",
   "metadata": {},
   "outputs": [],
   "source": [
    "from langgraph.graph import StateGraph, START, END\n",
    "from typing import TypedDict, Literal"
   ]
  },
  {
   "cell_type": "code",
   "execution_count": 45,
   "id": "4533e7a9",
   "metadata": {},
   "outputs": [],
   "source": [
    "class AgentState(TypedDict):\n",
    "    num1: int\n",
    "    num2: int\n",
    "    num3: int\n",
    "    num4: int\n",
    "    operation: Literal['+', '-']\n",
    "    operation2: Literal['+', '-']\n",
    "    result: int\n",
    "    result2: int"
   ]
  },
  {
   "cell_type": "code",
   "execution_count": 46,
   "id": "9a7606da",
   "metadata": {},
   "outputs": [],
   "source": [
    "def adder(state: AgentState) -> AgentState:\n",
    "    \"\"\"This function add two number and store result in result\"\"\"\n",
    "    state['result'] = state['num1'] + state['num2']\n",
    "    return state\n",
    "\n",
    "def subtract(state: AgentState) -> AgentState:\n",
    "    \"\"\"This function subtract two number and store result in result\"\"\"\n",
    "    state['result'] = state['num1'] - state['num2']\n",
    "    return state\n",
    "\n",
    "def adder2(state: AgentState) -> AgentState:\n",
    "    \"\"\"This function add two number and store result in result\"\"\"\n",
    "    state['result2'] = state['num3'] + state['num4']\n",
    "    return state\n",
    "\n",
    "def subtract2(state: AgentState) -> AgentState:\n",
    "    \"\"\"This function subtract two number and store result in result\"\"\"\n",
    "    state['result2'] = state['num3'] - state['num4']\n",
    "    return state\n",
    "\n",
    "def router(state: AgentState) -> str:\n",
    "    \"\"\"This function add two number and store result in result\"\"\"\n",
    "    if state['operation'] == '+':\n",
    "        return \"adder\"\n",
    "    else:\n",
    "        return \"subtract\"\n",
    "\n",
    "def router2(state: AgentState) -> str:\n",
    "    \"\"\"This function add two number and store result in result\"\"\"\n",
    "    if state['operation2'] == '+':\n",
    "        return \"adder2\"\n",
    "    else:\n",
    "        return \"subtract2\""
   ]
  },
  {
   "cell_type": "code",
   "execution_count": 47,
   "id": "355ea048",
   "metadata": {},
   "outputs": [],
   "source": [
    "graph = StateGraph(AgentState)\n",
    "\n",
    "graph.add_node(\"adder\", adder)\n",
    "graph.add_node(\"subtract\", subtract)\n",
    "\n",
    "graph.add_node(\"adder2\", adder2)\n",
    "graph.add_node(\"subtract2\", subtract2)\n",
    "\n",
    "graph.add_node(\"router\", lambda x: x)\n",
    "graph.add_node(\"router2\", lambda x: x)\n",
    "\n",
    "graph.add_edge(START, \"router\")\n",
    "\n",
    "graph.add_conditional_edges(\n",
    "    \"router\",\n",
    "    router,\n",
    "    {\n",
    "        \"adder\":\"adder\",\n",
    "        \"subtract\":\"subtract\"\n",
    "    }\n",
    ")\n",
    "\n",
    "graph.add_edge(\"adder\", \"router2\")\n",
    "graph.add_edge(\"subtract\", \"router2\")\n",
    "\n",
    "\n",
    "graph.add_conditional_edges(\n",
    "    \"router2\",\n",
    "    router2,\n",
    "    {\n",
    "        \"adder2\":\"adder2\",\n",
    "        \"subtract2\":\"subtract2\"\n",
    "    }\n",
    ")\n",
    "\n",
    "graph.add_edge(\"adder2\", END)\n",
    "graph.add_edge(\"subtract2\", END)\n",
    "\n",
    "\n",
    "app = graph.compile()"
   ]
  },
  {
   "cell_type": "code",
   "execution_count": 48,
   "id": "e11f5a43",
   "metadata": {},
   "outputs": [
    {
     "data": {
      "text/plain": [
       "Graph(nodes={'__start__': Node(id='__start__', name='__start__', data=RunnableCallable(tags=None, recurse=True, explode_args=False, func_accepts={}), metadata=None), 'adder': Node(id='adder', name='adder', data=adder(tags=None, recurse=True, explode_args=False, func_accepts={}), metadata=None), 'subtract': Node(id='subtract', name='subtract', data=subtract(tags=None, recurse=True, explode_args=False, func_accepts={}), metadata=None), 'adder2': Node(id='adder2', name='adder2', data=adder2(tags=None, recurse=True, explode_args=False, func_accepts={}), metadata=None), 'subtract2': Node(id='subtract2', name='subtract2', data=subtract2(tags=None, recurse=True, explode_args=False, func_accepts={}), metadata=None), 'router': Node(id='router', name='router', data=router(tags=None, recurse=True, explode_args=False, func_accepts={}), metadata=None), 'router2': Node(id='router2', name='router2', data=router2(tags=None, recurse=True, explode_args=False, func_accepts={}), metadata=None), '__end__': Node(id='__end__', name='__end__', data=None, metadata=None)}, edges=[Edge(source='__start__', target='router', data=None, conditional=False), Edge(source='adder', target='router2', data=None, conditional=False), Edge(source='router', target='adder', data=None, conditional=True), Edge(source='router', target='subtract', data=None, conditional=True), Edge(source='router2', target='adder2', data=None, conditional=True), Edge(source='router2', target='subtract2', data=None, conditional=True), Edge(source='subtract', target='router2', data=None, conditional=False), Edge(source='adder2', target='__end__', data=None, conditional=False), Edge(source='subtract2', target='__end__', data=None, conditional=False)])"
      ]
     },
     "execution_count": 48,
     "metadata": {},
     "output_type": "execute_result"
    }
   ],
   "source": [
    "app.get_graph()"
   ]
  },
  {
   "cell_type": "code",
   "execution_count": 49,
   "id": "6fa34c46",
   "metadata": {},
   "outputs": [
    {
     "data": {
      "image/png": "[encoded data removed]",
      "text/plain": [
       "<IPython.core.display.Image object>"
      ]
     },
     "metadata": {},
     "output_type": "display_data"
    }
   ],
   "source": [
    "from IPython.display import Image, display\n",
    "display(Image(app.get_graph(). draw_mermaid_png()))"
   ]
  },
  {
   "cell_type": "code",
   "execution_count": 50,
   "id": "12e4762a",
   "metadata": {},
   "outputs": [
    {
     "name": "stdout",
     "output_type": "stream",
     "text": [
      "{'num1': 5, 'num2': 10, 'num3': 4, 'num4': 1, 'operation': '+', 'operation2': '-', 'result': 15, 'result2': 3}\n"
     ]
    }
   ],
   "source": [
    "result = app.invoke({\"num1\": 5, \"num2\": 10, \"operation\": \"+\", \"num3\": 4, \"num4\": 1, \"operation2\": \"-\"})\n",
    "\n",
    "print(result)"
   ]
  },
  {
   "cell_type": "code",
   "execution_count": null,
   "id": "9d976c3d",
   "metadata": {},
   "outputs": [],
   "source": []
  }
 ],
 "metadata": {
  "kernelspec": {
   "display_name": "lang-graph-learning",
   "language": "python",
   "name": "python3"
  },
  "language_info": {
   "codemirror_mode": {
    "name": "ipython",
    "version": 3
   },
   "file_extension": ".py",
   "mimetype": "text/x-python",
   "name": "python",
   "nbconvert_exporter": "python",
   "pygments_lexer": "ipython3",
   "version": "3.13.3"
  }
 },
 "nbformat": 4,
 "nbformat_minor": 5
}
